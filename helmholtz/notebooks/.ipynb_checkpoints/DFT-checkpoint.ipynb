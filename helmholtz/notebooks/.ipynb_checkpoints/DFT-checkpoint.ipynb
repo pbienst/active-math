{
 "cells": [
  {
   "cell_type": "markdown",
   "metadata": {},
   "source": [
    "# The Discrete Fourier Transform\n",
    "\n",
    "## Starting point: the continuous-time case\n",
    "\n",
    "As you recall, a continuous-time periodic function $f(t)$ with angular frequency $\\omega_0=2 \\pi f = 2 \\pi / T$ can be written as \n",
    "\n",
    "$$f(t) = \\sum_{n=-\\infty}^\\infty a_n e^{jn\\omega_0 t}$$\n",
    "\n",
    "Such an expression can be considered as an inverse Fourier Transform (FT), i.e. an operation going from a representation by coefficients $a_n$ in the frequency domain to a representation $f(t)$ in the time-domain.\n",
    "\n",
    "The coefficients $a_n$ are given by\n",
    "\n",
    "$$ a_n = \\frac{1}{T} \\int_0^T f(t) e ^{-jn\\omega_0 t} dt$$ \n",
    "\n",
    "The expression above can be considered as a forward Fourier Transform, i.e. from the time domain to the frequency domain.\n",
    "\n",
    "## Moving to discrete time\n",
    "\n",
    "Now suppose that instead of a continuous-time function $f(t)$, we have a discrete-time signal given e.g. by a set of samples $x[k]=f(k \\Delta t)$, with $\\Delta t$ the sampling period. In that case, we use the Discrete Fourier Transform (DFT) rather than the regular FT. The DFT is defined as:\n",
    "\n",
    "$$X[n] = \\sum_{k=0}^{N-1} x[k] e^{-j 2 \\pi k n /N}$$\n",
    "\n",
    "To better illustrate the relationship between the DFT and FT, let's look at $-j n \\omega_0 t$ in the formula for the FT. This becomes $-j n \\frac{2 \\pi}{T}  t = -j n \\frac{2 \\pi}{T} k \\Delta t$. If we need $N$ samples to cover our period $T$, i.e. if $T=N \\Delta t$, this becomes $-j n \\frac{2 \\pi}{N \\Delta t} k \\Delta t = -j n \\frac{2 \\pi}{N} k $. This is exactly what we have in the exponential in the DFT. (Note that this is a rather handwaving argument. The full derivation is more involved and relies on convolutions, delta functions and sync functions.)\n",
    "\n",
    "Also, an expression like $-j 2 \\pi f t = -j 2 \\pi \\frac{n}{N \\Delta t} k \\Delta t$ makes it crystal clear that $k$ is a temporal index, with samples separated in time by $\\Delta t$, whereas $n$ is a frequency index, with different frequencies separated by $ \\frac{1}{N \\Delta t}$.\n",
    "\n",
    "For the inverse DFT, we have\n",
    "\n",
    "$$x[k]=\\frac{1}{N} \\sum_{n=0}^{N-1} X[n] e^{j 2 \\pi k n /N}$$\n",
    "\n",
    "So, our discrete-time signal $x[k]$ is the sum over many frequency contributions. Each term in the sum is a complex exponential $e^{j 2 \\pi k n /N}$ with a complex-valued amplitude $X[n]$. This is very remininscent of what we had with phasors in the continuous time domain. There, we associated a complex amplitude to an oscillation described by a complex exponential $e^{j \\omega t}$. Here, we do the same thing, but in discrete time.\n",
    "\n",
    "(Note: There also exists something called the Discrete-Time Fourier Transform (DTFT), which is similar but different. It is used for aperiodic functions, with intergration limits from $-\\infty$ to $\\infty$, rather than from 0 to $T$.)\n",
    "\n",
    "In case $N$ is a power of 2, there is a very efficient implementation of the DTF, which is called the Fast Fourier Transform (FFT).\n",
    "\n",
    "## First numerical experiments\n",
    "\n",
    "Let's now play around with some numerical experiments of the DFT in NumPy. Be aware that other definitions/conventions in terms of the sign in the exponential or normalisation factors are possible. The conventions used here are typical for engineering. Look up the definition used by NumPy for its DFT implementation [here](https://numpy.org/doc/stable/reference/routines.fft.html#implementation-details). What convention do they use? Note that the name FFT is so ubiquitous that the function called ```fft``` can also be used if $N$ is not a power of 2. It will then fall back on slower algorithms.\n",
    "\n",
    "Now, start from a sine wave with frequency 2 Hz, and construct a discrete version of it by sampling at 10 points per period. Plot one period of the original function, as well as the sampled points."
   ]
  },
  {
   "cell_type": "code",
   "execution_count": 1,
   "metadata": {},
   "outputs": [],
   "source": [
    "# Your code here."
   ]
  },
  {
   "cell_type": "markdown",
   "metadata": {},
   "source": [
    "Based on the formulas above, calculate the frequencies that correspond to the different coefficients in the DFT. Then, calculate the DFT and plot the absolute values of the coefficients. Does this correspond with what you expect?"
   ]
  },
  {
   "cell_type": "code",
   "execution_count": 3,
   "metadata": {},
   "outputs": [],
   "source": [
    "# Your code here."
   ]
  },
  {
   "cell_type": "markdown",
   "metadata": {},
   "source": [
    "This is perhaps a bit bizarre, as we would expect a contribution from both a positive and a negative exponential at frequency 2 Hz, since $\\sin(x)=\\frac{\\exp(j \\omega t) - \\exp(-j \\omega t)}{2j}$. Take a moment to try and figure out what is going on here.\n",
    "\n",
    "Our complex exponential for the $n$-th frequency is $e^{j 2 \\pi k n /N}$, with $k$ and $n$ being  integer indices that represent time and frequency respectively. We know that if we add an integer multiple of $2 \\pi$ to the argument of a complex exponential, nothing changes. It's easy to check that replacing $k$ by $k + N$, or $n$ by $n + N$ does exactly that. This results in the time being shifted from $t$ to $t + N \\Delta t = t + T$, and the frequency being shifted from $f$ to $f + N \\frac{1}{N \\Delta t} = f +  \\frac{1}{ \\Delta t} $. So, the function is periodic in time with period $T$ (we already knew that!), but it's also periodic in frequency with period $\\frac{1}{ \\Delta t}$. Because this frequency period is the inverse of the sampling time, it's also called the **sampling frequency $f_s$**.\n",
    "\n",
    "Write code to replace the upper half of the frequencies in the example above by equivalent frequencies that are shifted down by $\\frac{1}{\\Delta t}$."
   ]
  },
  {
   "cell_type": "code",
   "execution_count": 5,
   "metadata": {},
   "outputs": [],
   "source": [
    "# You code here."
   ]
  },
  {
   "cell_type": "markdown",
   "metadata": {},
   "source": [
    "There is actually a  function ```np.fft.fftfreq``` that generates this array directly. Look up its [documentation](https://numpy.org/doc/stable/reference/generated/numpy.fft.fftfreq.html) and verify it gives the same result as your own code above."
   ]
  },
  {
   "cell_type": "code",
   "execution_count": 7,
   "metadata": {},
   "outputs": [],
   "source": [
    "# Your code here."
   ]
  },
  {
   "cell_type": "markdown",
   "metadata": {},
   "source": [
    "Finally, it would be nice to reorder both the array of the frequencies and the array of FFT coefficients such that zero is in the middle. This can be accomplished by a cyclic shift (i.e. the elements that 'fall out' of the array on the right-hand side, reenter the array from the left), and this is implemented by ```np.fft.fftshift``` ([documentation](https://numpy.org/doc/stable/reference/generated/numpy.fft.fftshift.html)). Do that, and replot the results."
   ]
  },
  {
   "cell_type": "code",
   "execution_count": 9,
   "metadata": {},
   "outputs": [],
   "source": [
    "# Your code here."
   ]
  },
  {
   "cell_type": "markdown",
   "metadata": {},
   "source": [
    "This results in what we intuitively expected."
   ]
  },
  {
   "cell_type": "markdown",
   "metadata": {},
   "source": [
    "# Digging a bit deeper\n",
    "\n",
    "So far, we've only looked at the magnitude of the FFT, but let's now plot the real part and the imaginary part separately. What do you expect?"
   ]
  },
  {
   "cell_type": "code",
   "execution_count": 11,
   "metadata": {},
   "outputs": [],
   "source": [
    "# Your code here."
   ]
  },
  {
   "cell_type": "markdown",
   "metadata": {},
   "source": [
    "Since $\\sin(x)=\\frac{\\exp(j \\omega t) - \\exp(-j \\omega t)}{2j}$, we indeed expect that the coefficients of the complex exponentials should be purely imaginary, which a negative imaginary part of the coefficients for positive frequencies and a positive one for negative frequencies. As for the size of the amplitudes, we expected 0.5 and not 5, but remember that in the formula to go back to the time domain, there is a factor $1/N$, which is 1/10 in this case:\n",
    "\n",
    "$$x[k]=\\frac{1}{N} \\sum_{n=0}^{N-1} X[n] e^{j 2 \\pi k n /N}$$"
   ]
  },
  {
   "cell_type": "markdown",
   "metadata": {},
   "source": [
    "Finally, in case your original time sequence only consists of real values, what can you then conclude in general about the real and imaginary part of the FFT coefficients?\n",
    "\n",
    "Looking back at the formula for the DFT, we have\n",
    "\n",
    "$$X[n] = \\sum_{k=0}^{N-1} x[k] e^{-j 2 \\pi k n /N}$$\n",
    "\n",
    "It's easy to see that $X[-n] = X[n]^*$ in case $x[k]$ is real.\n",
    "\n",
    "This means that $\\Re X[-n] + j \\Im  X[-n] = \\Re X[n] - j \\Im  X[n]$. So, the real part is even, and the imaginary part is odd, which is what we had in our concrete example above as well."
   ]
  },
  {
   "cell_type": "markdown",
   "metadata": {},
   "source": [
    "## Playing around with frequency range and resolution\n",
    "\n",
    "First, rewrite the code to plot the samples and the magnitude of the FFT as a function, so that you can more easily use it to explore different scenarios. You can use e.g. the following signature:"
   ]
  },
  {
   "cell_type": "code",
   "execution_count": 13,
   "metadata": {},
   "outputs": [],
   "source": [
    "def plot_dft(f_t, T, N):\n",
    "    \n",
    "    # Your code to plot the sampled function f_t.\n",
    "    \n",
    "    # Your code to to plot the DFT.\n",
    "    \n",
    "    pass\n",
    "\n",
    "f = 2\n",
    "plot_dft(lambda t : np.sin(2*np.pi*f*t), T=0.5, N=10)"
   ]
  },
  {
   "cell_type": "markdown",
   "metadata": {},
   "source": [
    "Starting from the example we have studied above, investigate what happens if you sample two periods of the function rather than just one, but keeping the same distance between samples. What do you expect based on the formulas? Do the numerical experiments confirm this?"
   ]
  },
  {
   "cell_type": "code",
   "execution_count": 15,
   "metadata": {},
   "outputs": [],
   "source": [
    "# Your code here."
   ]
  },
  {
   "cell_type": "markdown",
   "metadata": {},
   "source": [
    "From our discussion above, we know that the frequencies are $\\frac{n}{N \\Delta t}$, and have a range $\\frac{1}{\\Delta t}$ after which they repeat. \n",
    "\n",
    "In this case, $\\Delta t$ stays the same, and the plots indeed confirm that the range of frequencies hasn't changed. However, $N$ has increased, which results in frequencies that are closer together. I.e., the frequency resolution has increased."
   ]
  },
  {
   "cell_type": "markdown",
   "metadata": {},
   "source": [
    "Next up, restrict your sampling back to a single period, but this time halve the sampling interval. What happens?"
   ]
  },
  {
   "cell_type": "code",
   "execution_count": 17,
   "metadata": {},
   "outputs": [],
   "source": [
    "# Your code here."
   ]
  },
  {
   "cell_type": "markdown",
   "metadata": {},
   "source": [
    "Since $\\Delta t$ is halved, the range of frequencies is doubled. At the same time $N$ is doubled, so these two effects cancel in the formula for the resolution, which therefore stays the same.\n",
    "\n",
    "So, **to summarise the important conclusions** we've seen:\n",
    "\n",
    "- The frequencies in the DFT periodically repeat with a period equal to the sampling frequency $f_s=1/\\Delta t$. If we choose to have zero as the center frequency, this results in a frequency range of $[-f_s/2, f_s/2]$.\n",
    "- The frequency resolution is given by  $\\Delta f = \\frac{1}{N \\Delta t} = \\frac{1}{N \\frac{T}{N}} = \\frac{1}{T}$."
   ]
  },
  {
   "cell_type": "markdown",
   "metadata": {},
   "source": [
    "## Aliasing and the Nyquist criterion"
   ]
  },
  {
   "cell_type": "markdown",
   "metadata": {},
   "source": [
    "We started out by doing the DFT of a sine wave with frequency $f=2$ Hz, using $N=10$ samples to cover a duration of $T=1/f=0.5$ seconds. Since the time interval $\\Delta t$ between samples is $T/N=0.05$ seconds, we know that the frequencies in the DFT are only defined up to multiples of $1/\\Delta t = 20$ Hz.\n",
    "\n",
    "Let's now use the same numerical parameters $N$ and $T$, and do the DFT of a sine wave of frequency 22 Hz. (Note that we'll still use $T=0.5$ seconds, so $T$ is not related to the frequency of the new sine wave anymore.)\n",
    "\n",
    "Update the parameters of your function to plot the results, and try to explain them."
   ]
  },
  {
   "cell_type": "code",
   "execution_count": 19,
   "metadata": {},
   "outputs": [],
   "source": [
    "# Your code here"
   ]
  },
  {
   "cell_type": "markdown",
   "metadata": {},
   "source": [
    "So, rather than ending up with a frequency of 22 Hz, which would be beyond our frequency range of 20 Hz anyhow, we end up with a frequency of 22-20=2 Hz. The time domain graph also clearly shows that the samples lie on a sine wave with a much lower frequency than the frequency of the original signal.\n",
    "\n",
    "Let's now try a freqency of 12 Hz. 12 is smaller than 20, right? So, hopefully things go better now..."
   ]
  },
  {
   "cell_type": "code",
   "execution_count": null,
   "metadata": {},
   "outputs": [],
   "source": [
    "# Your code here"
   ]
  },
  {
   "cell_type": "markdown",
   "metadata": {},
   "source": [
    "Rather than 12 Hz, we end up with 8 Hz. However, if we do 12-20, we get -8 Hz, so this mix-up is still consistent with having only a limited frequency range of 20 Hz that periodically repeats.\n",
    "\n",
    "The fact that high frequencies end up being mistaken for lower frequencies is called **aliasing**.\n",
    "\n",
    "Based on the examples we've seen so far, it seems that because of a limited range of frequencies $[-f_s/2,f_s/2]$ that periodically repeats, in order to get reliable results, the frequency of the signal that we're interested in should be lower than $f_s/2$.\n",
    "\n",
    "What if the signal frequency is exactly $f_s/2$? "
   ]
  },
  {
   "cell_type": "code",
   "execution_count": null,
   "metadata": {},
   "outputs": [],
   "source": [
    "# Your code here."
   ]
  },
  {
   "cell_type": "markdown",
   "metadata": {},
   "source": [
    "This is a pathological edge case: the samples all end up at zero.\n",
    "\n",
    "So, to summarise: **the DFT only gives reliable, i.e. non-aliased results for signal frequencies $f \\lt f_s/2$**.\n",
    "\n",
    "This is called the **Nyquist criterion**, and $f_s/2$ is the Nyquist frequency. Rather than Nyquist, you sometimes can also hear the name of **Shannon** instead. "
   ]
  }
 ],
 "metadata": {
  "kernelspec": {
   "display_name": "Python 3 (ipykernel)",
   "language": "python",
   "name": "python3"
  },
  "language_info": {
   "codemirror_mode": {
    "name": "ipython",
    "version": 3
   },
   "file_extension": ".py",
   "mimetype": "text/x-python",
   "name": "python",
   "nbconvert_exporter": "python",
   "pygments_lexer": "ipython3",
   "version": "3.11.0"
  },
  "vscode": {
   "interpreter": {
    "hash": "5238573367df39f7286bb46f9ff5f08f63a01a80960060ce41e3c79b190280fa"
   }
  }
 },
 "nbformat": 4,
 "nbformat_minor": 2
}
