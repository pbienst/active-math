{
 "cells": [
  {
   "cell_type": "markdown",
   "metadata": {},
   "source": [
    "# The Discrete Fourier Transform\n",
    "\n",
    "Fourier transform of continuous time periodic series (inverse ft, i.e. frequency to time): \n",
    "\n",
    "$$f(t) = \\sum_{n=-\\infty}^\\infty a_n e^{jn\\omega_0 t}$$\n",
    "\n",
    "with (fw transform, i.e. time to frequency)\n",
    "\n",
    "$$ a_n = \\frac{1}{T} \\int_0^T f(t) e ^{-jn\\omega_0 t} dt$$ \n",
    "\n",
    "\n",
    "DFT:\n",
    "\n",
    "$$X[n] = \\sum_{k=0}^{N-1} x[k] e^{-j 2 \\pi k n /N}$$\n",
    "\n",
    "Inverse DFT:\n",
    "\n",
    "$$x[k]=\\frac{1}{N} \\sum_{n=0}^{N-1} X[n] e^{j 2 \\pi k n /N}$$\n",
    "\n",
    "Note: other definitions/conventions in terms of sign in exponential and normalisation are possible.\n",
    "Note: DTFT: similar, but for aperiodic functions, with limits to infinity.\n",
    "\n",
    "Each frequency component $X[n]$ is related to a complex exponential $e^{j 2 \\pi k n /N}$"
   ]
  }
 ],
 "metadata": {
  "kernelspec": {
   "display_name": "Python 3 (ipykernel)",
   "language": "python",
   "name": "python3"
  },
  "language_info": {
   "codemirror_mode": {
    "name": "ipython",
    "version": 3
   },
   "file_extension": ".py",
   "mimetype": "text/x-python",
   "name": "python",
   "nbconvert_exporter": "python",
   "pygments_lexer": "ipython3",
   "version": "3.11.0"
  },
  "vscode": {
   "interpreter": {
    "hash": "5238573367df39f7286bb46f9ff5f08f63a01a80960060ce41e3c79b190280fa"
   }
  }
 },
 "nbformat": 4,
 "nbformat_minor": 2
}
