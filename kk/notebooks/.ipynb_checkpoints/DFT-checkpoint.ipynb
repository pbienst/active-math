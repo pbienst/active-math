{
 "cells": [
  {
   "cell_type": "markdown",
   "metadata": {},
   "source": [
    "# The Discrete Fourier Transform\n",
    "\n",
    "Fourier transform of periodic series: \n",
    "\n",
    "$$f(t) = \\sum_{k=-\\infty}^\\infty C_k e^{jk\\omega_0 t}$$\n",
    "\n",
    "with\n",
    "\n",
    "$$ C_k = \\frac{1}{T} Int_0^T f(t) e ^{-jk\\omega_0 t} dt$$\n",
    "\n"
   ]
  }
 ],
 "metadata": {
  "kernelspec": {
   "display_name": "Python 3 (ipykernel)",
   "language": "python",
   "name": "python3"
  },
  "language_info": {
   "codemirror_mode": {
    "name": "ipython",
    "version": 3
   },
   "file_extension": ".py",
   "mimetype": "text/x-python",
   "name": "python",
   "nbconvert_exporter": "python",
   "pygments_lexer": "ipython3",
   "version": "3.11.0"
  },
  "vscode": {
   "interpreter": {
    "hash": "5238573367df39f7286bb46f9ff5f08f63a01a80960060ce41e3c79b190280fa"
   }
  }
 },
 "nbformat": 4,
 "nbformat_minor": 2
}
